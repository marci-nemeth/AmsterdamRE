{
 "cells": [
  {
   "cell_type": "markdown",
   "metadata": {},
   "source": [
    "# BSc Thesis First Draft"
   ]
  },
  {
   "cell_type": "markdown",
   "metadata": {},
   "source": [
    "## Forecasting Real Estate Prices using Big Data: Methods and Alternative Data Sources"
   ]
  },
  {
   "cell_type": "markdown",
   "metadata": {},
   "source": [
    "*Marcell Nemeth*\n",
    "\n",
    "\n",
    "*13025651*,\n",
    "marcell.nemeth@student.uva.nl"
   ]
  },
  {
   "cell_type": "markdown",
   "metadata": {},
   "source": [
    "### TO-DO\n",
    "\n",
    "- [ ] add statistical tests for sample\n",
    "- [x] Create flowchart for pipeline\n",
    "- [ ] MORE ARTICLES\n",
    "- [ ] Simplify "
   ]
  },
  {
   "cell_type": "markdown",
   "metadata": {},
   "source": [
    "### Table of Contents\n",
    "\n",
    "- [1. Introduction](#1-introduction)\n",
    "- [2. Objectives](#2-objectives)\n",
    "- [3. Data](#3-data)\n",
    "  - [3.1 Geospatial Data](#31-geo-spatial-alternative-data-sources)\n",
    "  - [3.2 Green Space Estimation](#32-green-space-estimation)\n",
    "  - [3.3 Noise Pollution](#33-noise-pollution-score)\n",
    "  - [3.4 Distance to Centre Score ](#34-distance-to-centre-score)\n",
    "  - [3.5 Google Trends](#35-google-trends-score)\n",
    "  - [3.6 Neighborhood Safety Score](#36-neighborhood-safety-score)\n",
    "- [4. Methods](#4-methods)\n",
    "- [5. Evaluation Metrics](#5-evaluation-metrics)\n",
    "- [6. Issues](#6-issues)\n",
    "- [7. Pilot Study](#7-pilot)\n",
    "  - [7.1 Data](#71-data)\n",
    "  - [7.2 Distribution](#72-distribution-of-target)\n",
    "  - [7.3 Results](#73-results-of-the-pilot)\n",
    "  - [7.4 Correlation of Features](#74-correlation-of-features-and-target)\n",
    "- [8. Appendix](#8-appendix)\n",
    "  - [8.1 Parameter Grid](#81-parameter-grid-for-standard-models)\n",
    "- [9. References](#9-references)"
   ]
  },
  {
   "cell_type": "markdown",
   "metadata": {},
   "source": [
    "### 1. Introduction"
   ]
  },
  {
   "cell_type": "markdown",
   "metadata": {},
   "source": [
    "Most traditional of traditional real-estate valuation happens based on simple regression models and easily quantifiable data sources [Source]. With the advent on Big Data and more complex Machine Learning estimators, it is easier to address over/under-valuation of real estate properties [Source]. We propose an estimator framework that leverages alternative data sources and ensemble learning to provide more accurate valuation in the real estate market. "
   ]
  },
  {
   "cell_type": "markdown",
   "metadata": {},
   "source": [
    "### Literature Review (Preliminary)"
   ]
  },
  {
   "cell_type": "markdown",
   "metadata": {},
   "source": [
    "\n",
    "\n",
    "|Article   |Sample (size,loc)  |Input|Output|Models/Methods   |Results   |Limitations   |\n",
    "|---|---|---|---|---|---|---|\n",
    "|[Valier, A. (2020)](https://www.tandfonline.com/doi/full/10.1080/09599916.2019.1587489)  | 165 articles  |Property features   |Final prices   |   |||\n",
    "| [Perez-Rave, I (2019)](https://www.emerald.com/insight/content/doi/10.1108/JPIF-12-2019-0157/full/html)  | Colombia (61,826 observations), Am Housing Survey (58,888 observations)  |   |   | MINREM  |ML > Hedonic| |\n",
    "| [Winky K.O., H (2020)](https://www.tandfonline.com/doi/full/10.1080/09599916.2020.1832558)   |  Hong-Kong (40,000) |  Orientation(ESWN), distrance from centre, other property char. | Transaction price   |  SVM, RF, GBM |$R^2$ ~0.9||\n",
    "|[Lorenz (2020)](https://onlinelibrary.wiley.com/doi/full/10.1111/1540-6229.12397) |  Frankfurt(52,966 observations) |Socioecon. + property data+ spatial data (CBD dist., anities) | Rent| XGB | $R^2$ ~0.92| |"
   ]
  },
  {
   "cell_type": "markdown",
   "metadata": {},
   "source": [
    "#### Hypothesis\n",
    "\n",
    "The hypotheses of this study are the following:\n",
    "\n",
    "$H_0$: There is no significant difference in accuracy between traditional real-estate valuation based on simple hedonic regression models and easily quantifiable data sources, and the proposed estimator framework that leverages alternative data sources and ensemble learning.\n",
    "\n",
    "$H_1$: The proposed estimator framework that leverages alternative data sources and ensemble learning provides more accurate valuation in the real estate market compared to traditional real-estate valuation based on hedonic regression models."
   ]
  },
  {
   "cell_type": "markdown",
   "metadata": {},
   "source": [
    "### 2. Objectives"
   ]
  },
  {
   "cell_type": "markdown",
   "metadata": {},
   "source": [
    "The objectives of this thesis are the following:\n",
    "\n",
    "1. Establish a baseline model for real estate valuation based on available property data and OLS regression.\n",
    "2. Improve predictions by utilizing ensemble learning\n",
    "3. Identify alternative data sources that can contribute to prediction accuracy\n",
    "4. Compare model performance with and without the identified data sources"
   ]
  },
  {
   "cell_type": "markdown",
   "metadata": {},
   "source": [
    "### 4. Methods:\n",
    "\n",
    "#### Flowchart of project's description\n",
    "\n",
    "![Data Flow](imgs/figures/data_flow.png)"
   ]
  },
  {
   "cell_type": "markdown",
   "metadata": {},
   "source": [
    "### 3. Data"
   ]
  },
  {
   "cell_type": "markdown",
   "metadata": {},
   "source": [
    "As many alternative data sources deal with 2D mapping of features, some spatial data can be broken down either to fewer components (PCA?) or a singular metric."
   ]
  },
  {
   "cell_type": "markdown",
   "metadata": {},
   "source": [
    "### Data Availability\n",
    "\n",
    "| Data type | Data source | Transformation methods | Condensed Data | Level of data |\n",
    "|:---|:---|:---|:---|:---|\n",
    "|Property Sales Data|Funda.nl (via funda scraper)| Label encoding, standardizing| 25 unique data-points| Individual points | \n",
    "| Green Space Nearby | Google Earth Engine (Sentinel-2 RGB) | Masking, green-pixel/total pixels ratio| Green Space Prevalence Score | ~Individual points |\n",
    "| Noise Pollution Prevalence Score | Amsterdam Gementee Noise Pollution Map | Masking, pixel prevalence ratio | Noise Pollution Prevalence  | ~Block level  | \n",
    "| Neighborhood Safety Score | Amsterdam Gementee Neighborhood Safety Score | Standardizing | Range (0-1) 1: Safest 0: Least Safe|\n",
    "| RE related search terms  | Google Trends API | Avg. scoring of prevalence during period | Range (0-1) <br> 1: Highest interest<br> 0: Lowest interest| City level |  \n",
    "| Listing description | Funda.nl (via funda scraper) | Sentiment Analysis with continuos output| Score (0-1)<br> 1: Highest Price Listing<br> 0: Lowest Price Listing| Individual points | \n"
   ]
  },
  {
   "cell_type": "markdown",
   "metadata": {},
   "source": [
    "##### 3.1 Geo Spatial Alternative Data Sources:"
   ]
  },
  {
   "cell_type": "markdown",
   "metadata": {},
   "source": [
    "![Image](imgs/figures/feature_pipeline.png)\n",
    "\n",
    "\n",
    "Landsat imaging and Traffic maps for the sampling are collected by the Google Earth Python API.\n",
    "\n",
    "Noise pollution maps are published by local authorities.\n",
    "\n",
    "Crime statistics largely district level data.\n",
    "\n",
    "Green space can be calculated by applying a green filter to landsat imaging:\n",
    "\n",
    "- Geo location from original data X,Y coordinates \n",
    "- Cutting a circular mask with radius r\n",
    "- Scoring prevalence of green in the circle (0-1)"
   ]
  },
  {
   "cell_type": "markdown",
   "metadata": {},
   "source": [
    "#### 3.2 Green Space Estimation"
   ]
  },
  {
   "cell_type": "markdown",
   "metadata": {},
   "source": [
    "Green space estimation happens by obtaining landsat images from Google Earth's API for each geolocation. Then, a circular clipping mask of  radius $r$ is applied. Within the circle, each pixel is counted, and we obtain the ratio by dividing pixels falling in the green range with overall pixels within the area of the circle."
   ]
  },
  {
   "cell_type": "markdown",
   "metadata": {},
   "source": [
    "![Green Mask Sample](green_mask_sample.png)"
   ]
  },
  {
   "cell_type": "markdown",
   "metadata": {},
   "source": [
    "#### 3.3  Noise Pollution Score"
   ]
  },
  {
   "cell_type": "markdown",
   "metadata": {},
   "source": [
    "There are readily available noise pollution maps both on a city and regional level for the Netherlands. A similar scoring system as the Green Space estimation can be utilized to see the exposure to noise of an apartment."
   ]
  },
  {
   "cell_type": "markdown",
   "metadata": {},
   "source": [
    "##### TODO: Transform noise map csv file to Folium map object, use the same scoring mechanism (or PCA?)"
   ]
  },
  {
   "cell_type": "markdown",
   "metadata": {},
   "source": [
    "#### 3.4 Distance to Centre Score"
   ]
  },
  {
   "cell_type": "markdown",
   "metadata": {},
   "source": [
    "Distance to centre score is calculated by taking a cluster (city) of data points, distributed by x,y coordinates, and locating the centroid of the cluster, calculating Eucledian distance from point to centroid. This method of calculation relies on an important assumption:\n",
    "The sample is representative of the population and functional city centres can be located by apartment density."
   ]
  },
  {
   "cell_type": "markdown",
   "metadata": {},
   "source": [
    "Each datapoint's coordinates were estimated by Geolocation, provided by Google Maps API. Below you can see a distribution of the sample with the Centre of Gravity marked:\n",
    "\n",
    "![CBD](imgs/figures/map_with_gc.png)"
   ]
  },
  {
   "cell_type": "markdown",
   "metadata": {},
   "source": [
    "#### 3.5 Google Trends Score"
   ]
  },
  {
   "cell_type": "markdown",
   "metadata": {},
   "source": [
    "Google Trends gives a very high level summary of search term usage. In the Netherlands, regional levels of search analytics can be accessed.\n",
    "**This score can be only implemented if the final sample will be on a regional level, not on a city level.**"
   ]
  },
  {
   "cell_type": "markdown",
   "metadata": {},
   "source": [
    "##### 3.6 Neighborhood Safety Score"
   ]
  },
  {
   "cell_type": "markdown",
   "metadata": {},
   "source": [
    "Amsterdam provides a district level breakdown of safety scores:\n",
    "\n",
    "![Crime Map](imgs/figures/crime_map.png)"
   ]
  },
  {
   "cell_type": "markdown",
   "metadata": {},
   "source": [
    "### 4. Model Selection"
   ]
  },
  {
   "cell_type": "markdown",
   "metadata": {},
   "source": [
    "The following standard models will be considered for evaluation:\n",
    "\n",
    "1. Lasso/Ridge Regressors\n",
    "2. Random Forest Regressor\n",
    "3. XGBoost Regressor\n",
    "4. SVM Regressor\n",
    "   \n",
    "\"Black Box\" models considered for evaluation:\n",
    "\n",
    "1. Convolutional Neural Networks\n",
    "2. BERT for NLP analysis\n",
    "\n"
   ]
  },
  {
   "cell_type": "markdown",
   "metadata": {},
   "source": [
    "### 5. Evaluation Metrics\n",
    "\n",
    "##### Metrics for model evaluation:\n",
    "- Mean Squared Error (MSE)\n",
    "- Root Mean Squared Error (RMSE)\n",
    "- Mean Absolute Error (AME)\n",
    "- $R^2$ \n",
    "\n",
    "##### Metrics for feature evaluation: \n",
    "- Feature Importance\n",
    "- Feature Effects\n",
    "- Feature Interactions"
   ]
  },
  {
   "cell_type": "markdown",
   "metadata": {},
   "source": [
    "### 6. Issues\n",
    "\n",
    "#### 6. 1 Scraping Data\n",
    "I am unsure if permission is needed from agencies such as Funda or Pararius to use their data for model testing. "
   ]
  },
  {
   "cell_type": "markdown",
   "metadata": {},
   "source": [
    "### 7. Pilot \n",
    "\n",
    "A small pilot on the sample data showed promising results.\n",
    "\n",
    "- Outliers were removed\n",
    "- Categorical variables were encoded\n",
    "- The target variable needed to be log transformed to fit a normal distribution\n",
    "- A Randomized Search Cross Validation was conducted on all regressors\n",
    "- Multiple strong correlations between the target and features were found (see Correlation matrix)\n"
   ]
  },
  {
   "cell_type": "markdown",
   "metadata": {},
   "source": [
    "#### 7.1 Data\n",
    "\n",
    "Fortunately there is a preexisting Python package to scrape real estate listings on Funda under a GNU License. (see References)"
   ]
  },
  {
   "cell_type": "markdown",
   "metadata": {},
   "source": [
    "For the pilot study, a dataset of 605 properties was collected from Funda.nl.\n",
    "\n",
    "Addresses from the dataset were transformed to coordinates via geolocation (Google Earth Engine)"
   ]
  },
  {
   "cell_type": "markdown",
   "metadata": {},
   "source": [
    "#### RE listing features\n",
    "\n",
    "All properties were located in Amsterdam and had the following features:\n",
    "\n",
    "|    Feature           | Type      | Description|\n",
    "|:--------------|:--------|:----|\n",
    "| house_id      | int64   | ID of property |\n",
    "| city          | object  | City |\n",
    "| house_type    | object  | Apartment/House |\n",
    "| building_type | object  | New Property/Resale Property| \n",
    "| price         | int64   | Price (EUR) |\n",
    "| price_m2      | float64 | Price/$m^2$ |\n",
    "| room          | int64   | Number of rooms |\n",
    "| bedroom       | int64   | Number of bedrooms |\n",
    "| bathroom      | int64   | Number of bathrooms |\n",
    "| living_area   | int64   | Size of living area |\n",
    "| energy_label  | object  | >A+, A, B, C, D, E, F, G, Nan|\n",
    "| has_balcony   | int64   | 1,0 |\n",
    "| has_garden    | int64   |1,0 |\n",
    "| zip           | int64   | Zip-code|\n",
    "| address       | object  | Address -> **used for geomapping** |\n",
    "| year_built    | int64   | Year Built |\n",
    "| house_age     | int64   | Current year - Year Built |\n",
    "| date_list     | object  | Date Listed |\n",
    "| ym_list       | object  | Date Listed? |\n",
    "| year_list     | int64   | Year Listed? |\n",
    "| descrip       | object  | Description -> **maybe sentiment analysis with BERT?**\n",
    "| ym_sold       | object  | Date Sold? |\n",
    "| year_sold     | int64   |Year Sold? |\n",
    "| term_days     | int64   |Term Days? |\n",
    "| date_sold     | object  | Date  Sold |"
   ]
  },
  {
   "cell_type": "markdown",
   "metadata": {},
   "source": [
    "##### 7.2 Distribution of target"
   ]
  },
  {
   "cell_type": "markdown",
   "metadata": {},
   "source": [
    "<img src=\"imgs/figures/target_distrib.png\" />"
   ]
  },
  {
   "cell_type": "markdown",
   "metadata": {},
   "source": [
    "With outliers removed, the target distribution was closer to normally distributed:\n",
    "<img src=\"imgs/figures/target_distrib_outliers.png\" />"
   ]
  },
  {
   "cell_type": "markdown",
   "metadata": {},
   "source": [
    "The training data was scaled with a StandardScaler, and fitted with each regressor through a randomized search Cross Validation Process (see Param Grid for Estimators)"
   ]
  },
  {
   "cell_type": "markdown",
   "metadata": {},
   "source": [
    "#### 7.4 Correlation of features and target"
   ]
  },
  {
   "cell_type": "markdown",
   "metadata": {},
   "source": [
    "![Correlation Matrix](imgs/figures/feature_corr.png)"
   ]
  },
  {
   "cell_type": "markdown",
   "metadata": {},
   "source": [
    "#### 7.3 Results of the pilot"
   ]
  },
  {
   "cell_type": "markdown",
   "metadata": {},
   "source": [
    "![Results](imgs\\\\figures\\\\cv_improv.png)"
   ]
  },
  {
   "cell_type": "markdown",
   "metadata": {},
   "source": [
    "### 8. Appendix"
   ]
  },
  {
   "cell_type": "markdown",
   "metadata": {},
   "source": [
    "##### 8.1 Parameter Grid for Standard Models:"
   ]
  },
  {
   "cell_type": "markdown",
   "metadata": {},
   "source": [
    "param_grid_rf = {\n",
    "    'n_estimators': np.arange(50, 200, 10),\n",
    "    'max_depth': np.arange(5, 15, 1),\n",
    "    'min_samples_split': np.arange(2, 11, 1),\n",
    "    'min_samples_leaf': np.arange(1, 6, 1)\n",
    "}\n",
    "\n",
    "param_grid_svr = {\n",
    "    'C': np.logspace(-3, 3, 7),\n",
    "    'kernel': ['linear', 'poly', 'rbf', 'sigmoid'],\n",
    "    'degree': np.arange(1, 6, 1)\n",
    "}\n",
    "\n",
    "param_grid_ridge = {\n",
    "    'alpha': np.logspace(-3, 3, 7),\n",
    "    'solver': ['auto', 'svd', 'cholesky', 'lsqr', 'sparse_cg', 'sag', 'saga']\n",
    "}\n",
    "\n",
    "param_grid_lasso = {\n",
    "    'alpha': np.logspace(-3, 3, 7),\n",
    "    'max_iter': np.arange(1000, 10000, 1000)\n",
    "}\n",
    "\n",
    "param_grid_xgb = {\n",
    "    'learning_rate': np.logspace(-3, 0, 4),\n",
    "    'n_estimators': np.arange(50, 200, 10),\n",
    "    'max_depth': np.arange(3, 10, 1),\n",
    "    'min_child_weight': np.arange(1, 6, 1),\n",
    "    'gamma': np.arange(0, 1, 0.1),\n",
    "    'subsample': np.arange(0.1, 1.1, 0.1),\n",
    "    'colsample_bytree': np.arange(0.1, 1.1, 0.1),\n",
    "    'reg_alpha': np.logspace(-3, 3, 7),\n",
    "    'reg_lambda': np.logspace(-3, 3, 7)\n",
    "}"
   ]
  },
  {
   "cell_type": "markdown",
   "metadata": {},
   "source": [
    "### 9. References"
   ]
  },
  {
   "cell_type": "markdown",
   "metadata": {},
   "source": [
    "Ho, W. K., Tang, B., & Wong, S. K. (2021). Predicting property prices with machine learning algorithms. Journal of Property Research, 38(1), 48–70. https://doi.org/10.1080/09599916.2020.1832558\n",
    "\n",
    "Lorenz, F., Willwersch, J., Cajias, M., & Fuerst, F. (2022). Interpretable machine learning for real estate market analysis. Real Estate Economics. https://doi.org/10.1111/1540-6229.12397\n",
    "\n",
    "Pérez-Rave, J., Correa, J. C., & Echavarría, F. G. (2019). A machine learning approach to big data regression analysis of real estate prices for inferential and predictive purposes. Journal of Property Research, 36(1), 59–96. https://doi.org/10.1080/09599916.2019.1587489\n",
    "\n",
    "Valier, A. (2020). Who performs better? AVMs vs hedonic models. Journal of Property Investment & Finance, 38(3), 213–225. https://doi.org/10.1108/jpif-12-2019-0157\n",
    "\n",
    "\n",
    "W. (n.d.). GitHub - whchien/funda-scraper: FundaScaper scrapes data from Funda, the Dutch housing website. You can find listings from house-buyer or rental market, and historical data. GitHub. https://github.com/whchien/funda-scraper"
   ]
  },
  {
   "cell_type": "code",
   "execution_count": 4,
   "metadata": {},
   "outputs": [
    {
     "name": "stdout",
     "output_type": "stream",
     "text": [
      "C:\\Users\\nemet\\OneDrive\\Desktop\\Git-Thesis\n"
     ]
    }
   ],
   "source": [
    "import os \n",
    "print(os.getcwd())"
   ]
  },
  {
   "cell_type": "code",
   "execution_count": null,
   "metadata": {},
   "outputs": [],
   "source": []
  }
 ],
 "metadata": {
  "kernelspec": {
   "display_name": "Python 3 (ipykernel)",
   "language": "python",
   "name": "python3"
  },
  "language_info": {
   "codemirror_mode": {
    "name": "ipython",
    "version": 3
   },
   "file_extension": ".py",
   "mimetype": "text/x-python",
   "name": "python",
   "nbconvert_exporter": "python",
   "pygments_lexer": "ipython3",
   "version": "3.9.13"
  }
 },
 "nbformat": 4,
 "nbformat_minor": 2
}
